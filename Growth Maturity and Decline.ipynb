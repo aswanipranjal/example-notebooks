{
 "cells": [
  {
   "cell_type": "markdown",
   "metadata": {},
   "source": [
    "# Growth-Maturity-Decline\n",
    "\n",
    "This notebook has been designed to show how to produce results of Growth-Maturity-Decline Activity metrics and how to visualise them using various data sources.\n",
    "This is an interactive IPython Notebook so you can go ahead and change variables to analyse the repository that you would like to analyse.\n",
    "\n",
    "*This notebook is independent of external applcations such as Elasticsearch or any other data store. You should however have the necessary libraries to retrieve the data from various data sources and to analyse the data to get required results.*\n",
    "\n",
    "\n",
    "GMD metrics have been divided into 3 parts. You can read more about GMD metrics [here](https://github.com/chaoss/metrics/blob/master/2_Growth-Maturity-Decline.md)."
   ]
  },
  {
   "cell_type": "markdown",
   "metadata": {},
   "source": [
    "### Getting the data (Optional)\n",
    "\n",
    "**NOTE:** *If you are just looking for implementation of the Metrics, you don't need to run this section. A pre-cleaned JSON file by the name of `perceval.json` is already present in the directory. We will be analysing it by default.*\n",
    "\n",
    "\n",
    "To analyse data, we must first acquire and clean it.\n",
    "We'll start with importing the necessary libraries and defining some variables:"
   ]
  },
  {
   "cell_type": "code",
   "execution_count": 1,
   "metadata": {},
   "outputs": [],
   "source": [
    "import json\n",
    "\n",
    "from perceval.backends.core.github import GitHub"
   ]
  },
  {
   "cell_type": "markdown",
   "metadata": {},
   "source": [
    "Here we are analysing [perceval](https://github.com/chaoss/grimoirelab-perceval)."
   ]
  },
  {
   "cell_type": "code",
   "execution_count": 2,
   "metadata": {},
   "outputs": [],
   "source": [
    "# Who ownes the repository? In this case, perceval is being developed under CHAOSS\n",
    "repo_owner = \"chaoss\" \n",
    "\n",
    "# name of the repo to be analysed\n",
    "repo_name = \"grimoirelab-perceval\"\n",
    "\n",
    "# name of the file where the data will be stored by perceval in JSON format\n",
    "file_store = \"perceval.json\" \n",
    "\n",
    "# GitHub has a rate limiting API so the user must be authentiated using a token\n",
    "token = \"\""
   ]
  },
  {
   "cell_type": "markdown",
   "metadata": {},
   "source": [
    "This command will retrieve data from the said repository and store it in the defined file in JSON format.\n",
    "It can take some time to retrieve the data depending upon the number of issues and PRs that are in the repository."
   ]
  },
  {
   "cell_type": "code",
   "execution_count": 3,
   "metadata": {},
   "outputs": [
    {
     "name": "stdout",
     "output_type": "stream",
     "text": [
      "Fetching data from grimoirelab-perceval\n",
      "Extracted 380 issues from grimoirelab-perceval\n"
     ]
    }
   ],
   "source": [
    "repo = GitHub(owner=repo_owner, repository=repo_name, api_token=token)\n",
    "\n",
    "print(\"Fetching data from {}\".format(repo_name))\n",
    "count = 0\n",
    "with open(file_store, 'a+') as f:\n",
    "    for item in repo.fetch():\n",
    "        json.dump(item, f, separators=(', ', ': '), indent=4)\n",
    "        count+=1\n",
    "print(\"Extracted {} issues from {}\".format(count, repo_name))"
   ]
  },
  {
   "cell_type": "markdown",
   "metadata": {},
   "source": [
    "\n",
    "## Part- I: Issue Resolution\n",
    "\n",
    "The first part of GMD focuses on issues. \n",
    "\n",
    "Goal: Identify how effective the community is at addressing issues identified by community partcipants.\n",
    "\n",
    "Name | Question\n",
    "--- | ---\n",
    "[Open Issues](activity-metrics/open-issues.md) | What is the number of open issues? \n",
    "[Closed Issues](activity-metrics/closed-issues.md) | What is the number of closed issues? \n",
    "[Issue Resolution Efficiency](activity-metrics/issue-resolution-efficiency.md) | What is the number of closed issues/number of abandoned issues? \n",
    "[Open Issue Age](activity-metrics/open-issue-age.md) | What is the the age of open issues? \n",
    "[First Response to Issue Duration](activity-metrics/first-response-to-issue-duration.md) | What is the duration of time for a first response to an issue?\n",
    "[Closed Issue Resolution Duration](activity-metrics/closed-issue-resolution-duration.md) | What is the duration of time for issues to be resolved?"
   ]
  },
  {
   "cell_type": "markdown",
   "metadata": {},
   "source": [
    "#### Parsing the data\n",
    "\n",
    "We will parse the data as JSON objects (or Python Dictionaries) and store it in a list. We can then use this list to access individual data or we can convert this list of dicts into a pandas data frame."
   ]
  },
  {
   "cell_type": "code",
   "execution_count": 5,
   "metadata": {},
   "outputs": [],
   "source": [
    "from lib import parse_json\n",
    "\n",
    "# name of the repo\n",
    "repo_name = \"grimoirelab-perceval\"\n",
    "\n",
    "# name of the default data file\n",
    "file_store = \"perceval.json\"\n",
    "\n",
    "data = []\n",
    "with open(file_store, 'r') as f:\n",
    "    for js_obj in parse_json(f):\n",
    "        data.append(js_obj)"
   ]
  },
  {
   "cell_type": "markdown",
   "metadata": {},
   "source": [
    "We'll start with the first two activity metrics:"
   ]
  },
  {
   "cell_type": "markdown",
   "metadata": {},
   "source": [
    "### Open Issues\n",
    "\n",
    "These define the number of issues that are open in a repository."
   ]
  },
  {
   "cell_type": "code",
   "execution_count": 6,
   "metadata": {},
   "outputs": [
    {
     "name": "stdout",
     "output_type": "stream",
     "text": [
      "Open issues in grimoirelab-perceval are: 22/135\n"
     ]
    }
   ],
   "source": [
    "open_issues_count = 0\n",
    "total_issues = 0\n",
    "for item in data:\n",
    "    if 'pull_request' not in item['data']:\n",
    "        total_issues += 1\n",
    "        if item['data']['state'] == 'open':\n",
    "            open_issues_count += 1\n",
    "\n",
    "print(\"Open issues in {} are: {}/{}\".format(repo_name, open_issues_count, total_issues))"
   ]
  },
  {
   "cell_type": "markdown",
   "metadata": {},
   "source": [
    "### Closed Issues\n",
    "\n",
    "These define the number of issues that have been closed in a repository."
   ]
  },
  {
   "cell_type": "code",
   "execution_count": 7,
   "metadata": {},
   "outputs": [
    {
     "name": "stdout",
     "output_type": "stream",
     "text": [
      "Closed issues in grimoirelab-perceval are: 113/135\n"
     ]
    }
   ],
   "source": [
    "close_issues_count = total_issues - open_issues_count\n",
    "\n",
    "print(\"Closed issues in {} are: {}/{}\".format(repo_name, close_issues_count, total_issues))"
   ]
  }
 ],
 "metadata": {
  "kernelspec": {
   "display_name": "Python 3",
   "language": "python",
   "name": "python3"
  },
  "language_info": {
   "codemirror_mode": {
    "name": "ipython",
    "version": 3
   },
   "file_extension": ".py",
   "mimetype": "text/x-python",
   "name": "python",
   "nbconvert_exporter": "python",
   "pygments_lexer": "ipython3",
   "version": "3.6.3"
  }
 },
 "nbformat": 4,
 "nbformat_minor": 2
}
